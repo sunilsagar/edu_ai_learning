{
 "cells": [
  {
   "cell_type": "code",
   "execution_count": 2,
   "id": "c55fae0e",
   "metadata": {},
   "outputs": [
    {
     "name": "stdout",
     "output_type": "stream",
     "text": [
      "Requirement already satisfied: nltk in /Users/swanil/anaconda3/lib/python3.11/site-packages (3.8.1)\r\n",
      "Requirement already satisfied: click in /Users/swanil/anaconda3/lib/python3.11/site-packages (from nltk) (8.0.4)\r\n",
      "Requirement already satisfied: joblib in /Users/swanil/anaconda3/lib/python3.11/site-packages (from nltk) (1.2.0)\r\n",
      "Requirement already satisfied: regex>=2021.8.3 in /Users/swanil/anaconda3/lib/python3.11/site-packages (from nltk) (2022.7.9)\r\n",
      "Requirement already satisfied: tqdm in /Users/swanil/anaconda3/lib/python3.11/site-packages (from nltk) (4.65.0)\r\n"
     ]
    }
   ],
   "source": [
    "#command to install nltk library\n",
    "!pip install nltk"
   ]
  },
  {
   "cell_type": "code",
   "execution_count": 3,
   "id": "b7572319",
   "metadata": {},
   "outputs": [],
   "source": [
    "import nltk"
   ]
  },
  {
   "cell_type": "code",
   "execution_count": 4,
   "id": "891df096",
   "metadata": {},
   "outputs": [],
   "source": [
    "text = \"Once when King Krishnadevaraya had gone to survey the jail, two burglars who were prisoners there, asked for his mercy. They told him that they were experts at burglary and could help the king in catching other thieves. The king being a kind ruler asked his guards to release them but with a condition. He told the burglars that he would release them and appoint them as his spies only if they could break into his advisor Tenali Raman’s house and steal valuables from there. The thieves agreed for the challenge. That same night the two thieves went to Tenali Raman’s house and hid behind some bushes. After dinner, when Tenali Raman came out for a stroll, he heard some rustling in the bushes. He at once perceived the existence of thieves in his garden.\""
   ]
  },
  {
   "cell_type": "code",
   "execution_count": 5,
   "id": "4c2afe83",
   "metadata": {},
   "outputs": [
    {
     "name": "stdout",
     "output_type": "stream",
     "text": [
      "Once when King Krishnadevaraya had gone to survey the jail, two burglars who were prisoners there, asked for his mercy. They told him that they were experts at burglary and could help the king in catching other thieves. The king being a kind ruler asked his guards to release them but with a condition. He told the burglars that he would release them and appoint them as his spies only if they could break into his advisor Tenali Raman’s house and steal valuables from there. The thieves agreed for the challenge. That same night the two thieves went to Tenali Raman’s house and hid behind some bushes. After dinner, when Tenali Raman came out for a stroll, he heard some rustling in the bushes. He at once perceived the existence of thieves in his garden.\n"
     ]
    }
   ],
   "source": [
    "print(text)"
   ]
  },
  {
   "cell_type": "markdown",
   "id": "e11b2662",
   "metadata": {},
   "source": [
    "# Tokenize our input Text"
   ]
  },
  {
   "cell_type": "code",
   "execution_count": 6,
   "id": "29e5a1cc",
   "metadata": {},
   "outputs": [
    {
     "name": "stderr",
     "output_type": "stream",
     "text": [
      "[nltk_data] Downloading package punkt to /Users/swanil/nltk_data...\n",
      "[nltk_data]   Package punkt is already up-to-date!\n"
     ]
    },
    {
     "data": {
      "text/plain": [
       "True"
      ]
     },
     "execution_count": 6,
     "metadata": {},
     "output_type": "execute_result"
    }
   ],
   "source": [
    "#if you see error while involing sent_tokenize method, use below command\n",
    "nltk.download('punkt')"
   ]
  },
  {
   "cell_type": "code",
   "execution_count": 7,
   "id": "ea54fe27",
   "metadata": {},
   "outputs": [],
   "source": [
    "from nltk import sent_tokenize"
   ]
  },
  {
   "cell_type": "code",
   "execution_count": 8,
   "id": "a432e526",
   "metadata": {},
   "outputs": [
    {
     "name": "stdout",
     "output_type": "stream",
     "text": [
      "['Once when King Krishnadevaraya had gone to survey the jail, two burglars who were prisoners there, asked for his mercy.', 'They told him that they were experts at burglary and could help the king in catching other thieves.', 'The king being a kind ruler asked his guards to release them but with a condition.', 'He told the burglars that he would release them and appoint them as his spies only if they could break into his advisor Tenali Raman’s house and steal valuables from there.', 'The thieves agreed for the challenge.', 'That same night the two thieves went to Tenali Raman’s house and hid behind some bushes.', 'After dinner, when Tenali Raman came out for a stroll, he heard some rustling in the bushes.', 'He at once perceived the existence of thieves in his garden.']\n"
     ]
    }
   ],
   "source": [
    "sent_text = sent_tokenize(text)\n",
    "print(sent_text)"
   ]
  },
  {
   "cell_type": "code",
   "execution_count": 9,
   "id": "f04b8227",
   "metadata": {},
   "outputs": [
    {
     "name": "stdout",
     "output_type": "stream",
     "text": [
      "<class 'list'>\n"
     ]
    }
   ],
   "source": [
    "print(type(sent_text))"
   ]
  },
  {
   "cell_type": "code",
   "execution_count": 10,
   "id": "3b65dea9",
   "metadata": {},
   "outputs": [
    {
     "name": "stdout",
     "output_type": "stream",
     "text": [
      "Once when King Krishnadevaraya had gone to survey the jail, two burglars who were prisoners there, asked for his mercy.\n",
      "------------------------------------------------------\n",
      "They told him that they were experts at burglary and could help the king in catching other thieves.\n",
      "------------------------------------------------------\n",
      "The king being a kind ruler asked his guards to release them but with a condition.\n",
      "------------------------------------------------------\n",
      "He told the burglars that he would release them and appoint them as his spies only if they could break into his advisor Tenali Raman’s house and steal valuables from there.\n",
      "------------------------------------------------------\n",
      "The thieves agreed for the challenge.\n",
      "------------------------------------------------------\n",
      "That same night the two thieves went to Tenali Raman’s house and hid behind some bushes.\n",
      "------------------------------------------------------\n",
      "After dinner, when Tenali Raman came out for a stroll, he heard some rustling in the bushes.\n",
      "------------------------------------------------------\n",
      "He at once perceived the existence of thieves in his garden.\n",
      "------------------------------------------------------\n"
     ]
    }
   ],
   "source": [
    "for i in sent_text:\n",
    "    print(i)\n",
    "    print(\"------------------------------------------------------\")"
   ]
  },
  {
   "cell_type": "code",
   "execution_count": 11,
   "id": "b7402636",
   "metadata": {},
   "outputs": [],
   "source": [
    "from nltk import word_tokenize\n",
    "word_tokens = word_tokenize(sent_text[0])"
   ]
  },
  {
   "cell_type": "code",
   "execution_count": 12,
   "id": "0c012f80",
   "metadata": {},
   "outputs": [
    {
     "name": "stdout",
     "output_type": "stream",
     "text": [
      "['Once', 'when', 'King', 'Krishnadevaraya', 'had', 'gone', 'to', 'survey', 'the', 'jail', ',', 'two', 'burglars', 'who', 'were', 'prisoners', 'there', ',', 'asked', 'for', 'his', 'mercy', '.']\n"
     ]
    }
   ],
   "source": [
    "print(word_tokens)"
   ]
  },
  {
   "cell_type": "markdown",
   "id": "979b368b",
   "metadata": {},
   "source": [
    "Punctation do not value here, so process again"
   ]
  },
  {
   "cell_type": "markdown",
   "id": "37cf6346",
   "metadata": {},
   "source": [
    "# Preprocess the sentence tokens"
   ]
  },
  {
   "cell_type": "code",
   "execution_count": 13,
   "id": "f400786c",
   "metadata": {},
   "outputs": [],
   "source": [
    "import re\n",
    "for i in range(len(sent_text)):\n",
    "    sent_text[i] = sent_text[i].lower() # convert the sentence to lowecase\n",
    "    sent_text[i] = re.sub(r'\\W', ' ', sent_text[i])"
   ]
  },
  {
   "cell_type": "code",
   "execution_count": 14,
   "id": "79cf30c3",
   "metadata": {},
   "outputs": [
    {
     "name": "stdout",
     "output_type": "stream",
     "text": [
      "once when king krishnadevaraya had gone to survey the jail  two burglars who were prisoners there  asked for his mercy \n",
      "------------------------------------------------------\n",
      "they told him that they were experts at burglary and could help the king in catching other thieves \n",
      "------------------------------------------------------\n",
      "the king being a kind ruler asked his guards to release them but with a condition \n",
      "------------------------------------------------------\n",
      "he told the burglars that he would release them and appoint them as his spies only if they could break into his advisor tenali raman s house and steal valuables from there \n",
      "------------------------------------------------------\n",
      "the thieves agreed for the challenge \n",
      "------------------------------------------------------\n",
      "that same night the two thieves went to tenali raman s house and hid behind some bushes \n",
      "------------------------------------------------------\n",
      "after dinner  when tenali raman came out for a stroll  he heard some rustling in the bushes \n",
      "------------------------------------------------------\n",
      "he at once perceived the existence of thieves in his garden \n",
      "------------------------------------------------------\n"
     ]
    }
   ],
   "source": [
    "for i in sent_text:\n",
    "    print(i)\n",
    "    print(\"------------------------------------------------------\")"
   ]
  },
  {
   "cell_type": "markdown",
   "id": "449a72f4",
   "metadata": {},
   "source": [
    "## Lets word tokenoze the pre-process sentence tokens now"
   ]
  },
  {
   "cell_type": "code",
   "execution_count": 15,
   "id": "027d7cb9",
   "metadata": {},
   "outputs": [],
   "source": [
    "from nltk import word_tokenize\n",
    "word_text= [] # creating empty list to store all the word tokens\n",
    "for sent in sent_text:\n",
    "    word_text.append(word_tokenize(sent))"
   ]
  },
  {
   "cell_type": "code",
   "execution_count": 16,
   "id": "f5cb03d3",
   "metadata": {},
   "outputs": [
    {
     "name": "stdout",
     "output_type": "stream",
     "text": [
      "[['once', 'when', 'king', 'krishnadevaraya', 'had', 'gone', 'to', 'survey', 'the', 'jail', 'two', 'burglars', 'who', 'were', 'prisoners', 'there', 'asked', 'for', 'his', 'mercy'], ['they', 'told', 'him', 'that', 'they', 'were', 'experts', 'at', 'burglary', 'and', 'could', 'help', 'the', 'king', 'in', 'catching', 'other', 'thieves'], ['the', 'king', 'being', 'a', 'kind', 'ruler', 'asked', 'his', 'guards', 'to', 'release', 'them', 'but', 'with', 'a', 'condition'], ['he', 'told', 'the', 'burglars', 'that', 'he', 'would', 'release', 'them', 'and', 'appoint', 'them', 'as', 'his', 'spies', 'only', 'if', 'they', 'could', 'break', 'into', 'his', 'advisor', 'tenali', 'raman', 's', 'house', 'and', 'steal', 'valuables', 'from', 'there'], ['the', 'thieves', 'agreed', 'for', 'the', 'challenge'], ['that', 'same', 'night', 'the', 'two', 'thieves', 'went', 'to', 'tenali', 'raman', 's', 'house', 'and', 'hid', 'behind', 'some', 'bushes'], ['after', 'dinner', 'when', 'tenali', 'raman', 'came', 'out', 'for', 'a', 'stroll', 'he', 'heard', 'some', 'rustling', 'in', 'the', 'bushes'], ['he', 'at', 'once', 'perceived', 'the', 'existence', 'of', 'thieves', 'in', 'his', 'garden']]\n"
     ]
    }
   ],
   "source": [
    "print(word_text)"
   ]
  },
  {
   "cell_type": "code",
   "execution_count": 17,
   "id": "c5cc0f4a",
   "metadata": {},
   "outputs": [
    {
     "name": "stdout",
     "output_type": "stream",
     "text": [
      "['once', 'when', 'king', 'krishnadevaraya', 'had', 'gone', 'to', 'survey', 'the', 'jail', 'two', 'burglars', 'who', 'were', 'prisoners', 'there', 'asked', 'for', 'his', 'mercy', 'they', 'told', 'him', 'that', 'they', 'were', 'experts', 'at', 'burglary', 'and', 'could', 'help', 'the', 'king', 'in', 'catching', 'other', 'thieves', 'the', 'king', 'being', 'a', 'kind', 'ruler', 'asked', 'his', 'guards', 'to', 'release', 'them', 'but', 'with', 'a', 'condition', 'he', 'told', 'the', 'burglars', 'that', 'he', 'would', 'release', 'them', 'and', 'appoint', 'them', 'as', 'his', 'spies', 'only', 'if', 'they', 'could', 'break', 'into', 'his', 'advisor', 'tenali', 'raman', 's', 'house', 'and', 'steal', 'valuables', 'from', 'there', 'the', 'thieves', 'agreed', 'for', 'the', 'challenge', 'that', 'same', 'night', 'the', 'two', 'thieves', 'went', 'to', 'tenali', 'raman', 's', 'house', 'and', 'hid', 'behind', 'some', 'bushes', 'after', 'dinner', 'when', 'tenali', 'raman', 'came', 'out', 'for', 'a', 'stroll', 'he', 'heard', 'some', 'rustling', 'in', 'the', 'bushes', 'he', 'at', 'once', 'perceived', 'the', 'existence', 'of', 'thieves', 'in', 'his', 'garden']\n"
     ]
    }
   ],
   "source": [
    "# Convert the list of list to simple list\n",
    "from itertools import chain\n",
    "word_list = list(chain.from_iterable(word_text))\n",
    "print(word_list)"
   ]
  },
  {
   "cell_type": "code",
   "execution_count": 18,
   "id": "492dc5d4",
   "metadata": {},
   "outputs": [
    {
     "name": "stdout",
     "output_type": "stream",
     "text": [
      "Total number of words present in the word list is : \n",
      "137\n"
     ]
    }
   ],
   "source": [
    "print(\"Total number of words present in the word list is : \")\n",
    "print(len(word_list))"
   ]
  },
  {
   "cell_type": "markdown",
   "id": "9320b5f6",
   "metadata": {},
   "source": [
    "# Stop word removal"
   ]
  },
  {
   "cell_type": "code",
   "execution_count": 21,
   "id": "5b5216aa",
   "metadata": {},
   "outputs": [
    {
     "name": "stdout",
     "output_type": "stream",
     "text": [
      "The default list of stopwords present in the NLTK library for the English Language\n",
      "{'where', 'she', 'it', \"doesn't\", 'into', 'does', \"should've\", 'wouldn', 'because', 'needn', 'the', \"that'll\", \"wouldn't\", 'theirs', 'haven', 'mustn', \"haven't\", 'is', 'your', 'yourself', 'ourselves', 'while', 're', 'couldn', 'mightn', \"mightn't\", \"you're\", 'had', 'ain', 'am', 'are', 'yours', 'through', 'didn', 'over', 'few', 'after', 'and', 'shouldn', \"shouldn't\", 'an', 'has', 'shan', 'as', 'each', \"isn't\", 'no', 'doesn', 'myself', 'we', 'a', 'out', \"hadn't\", 'his', 'further', 'then', 'about', 'wasn', \"she's\", 'both', 'my', 'nor', 'who', 'but', 'same', 'any', \"you'd\", 'in', \"wasn't\", 'until', \"shan't\", 'above', 'her', 'under', 's', 'did', 'how', 'again', 'i', 'from', 'against', \"you'll\", 'aren', 'me', 'itself', 'having', 'down', 'more', 'will', 'hers', \"couldn't\", 'than', 'which', 'by', 'all', 'o', 'their', 'with', 'most', 'such', \"don't\", 'y', 'himself', 'they', 'not', 'what', 'whom', 'him', 'or', 'just', 'don', 'yourselves', \"needn't\", \"weren't\", 'he', 'during', 'this', 'own', 'isn', 'should', 'only', 'our', 'hadn', \"didn't\", 'do', 'those', 'won', 'hasn', 'so', 'too', 'there', 'once', 'here', 't', 'up', 'ma', 'you', 'these', 'ours', 'of', 'for', 'were', \"it's\", 'why', 'can', 'll', 'themselves', 'them', 'to', 'was', 'herself', 'other', 'some', 'doing', \"you've\", 'below', 'have', 'off', 'before', \"aren't\", \"mustn't\", 'd', 'at', 'when', 'weren', 'if', 'its', 'that', 'be', 'very', 'now', 'been', 'being', 'between', 've', \"won't\", \"hasn't\", 'm', 'on'}\n"
     ]
    },
    {
     "name": "stderr",
     "output_type": "stream",
     "text": [
      "[nltk_data] Downloading package stopwords to\n",
      "[nltk_data]     /Users/swanil/nltk_data...\n",
      "[nltk_data]   Unzipping corpora/stopwords.zip.\n"
     ]
    }
   ],
   "source": [
    "import nltk\n",
    "nltk.download('stopwords')\n",
    "from nltk.corpus import stopwords\n",
    "stopwords_en = set(stopwords.words(\"english\"))\n",
    "print(\"The default list of stopwords present in the NLTK library for the English Language\")\n",
    "print(stopwords_en)"
   ]
  },
  {
   "cell_type": "code",
   "execution_count": 22,
   "id": "30f180c2",
   "metadata": {},
   "outputs": [],
   "source": [
    "# We are gong to filter out the stop words from the input word list\n",
    "word_text_filtered = []\n",
    "for word in word_list:\n",
    "    if word not in stopwords_en:\n",
    "        word_text_filtered.append(word)"
   ]
  },
  {
   "cell_type": "code",
   "execution_count": 23,
   "id": "5d4d9f3d",
   "metadata": {},
   "outputs": [
    {
     "name": "stdout",
     "output_type": "stream",
     "text": [
      "['king', 'krishnadevaraya', 'gone', 'survey', 'jail', 'two', 'burglars', 'prisoners', 'asked', 'mercy', 'told', 'experts', 'burglary', 'could', 'help', 'king', 'catching', 'thieves', 'king', 'kind', 'ruler', 'asked', 'guards', 'release', 'condition', 'told', 'burglars', 'would', 'release', 'appoint', 'spies', 'could', 'break', 'advisor', 'tenali', 'raman', 'house', 'steal', 'valuables', 'thieves', 'agreed', 'challenge', 'night', 'two', 'thieves', 'went', 'tenali', 'raman', 'house', 'hid', 'behind', 'bushes', 'dinner', 'tenali', 'raman', 'came', 'stroll', 'heard', 'rustling', 'bushes', 'perceived', 'existence', 'thieves', 'garden']\n"
     ]
    }
   ],
   "source": [
    "print(word_text_filtered)"
   ]
  },
  {
   "cell_type": "code",
   "execution_count": 24,
   "id": "5c6a9a91",
   "metadata": {},
   "outputs": [
    {
     "name": "stdout",
     "output_type": "stream",
     "text": [
      "64\n"
     ]
    }
   ],
   "source": [
    "print(len(word_text_filtered))"
   ]
  },
  {
   "cell_type": "markdown",
   "id": "6775372e",
   "metadata": {},
   "source": [
    "# Lets stem the word"
   ]
  },
  {
   "cell_type": "code",
   "execution_count": 25,
   "id": "69b1abcb",
   "metadata": {},
   "outputs": [
    {
     "name": "stdout",
     "output_type": "stream",
     "text": [
      "king\n",
      "krishnadevaraya\n",
      "gone\n",
      "survey\n",
      "jail\n",
      "two\n",
      "burglar\n",
      "prison\n",
      "ask\n",
      "merci\n",
      "told\n",
      "expert\n",
      "burglari\n",
      "could\n",
      "help\n",
      "king\n",
      "catch\n",
      "thiev\n",
      "king\n",
      "kind\n",
      "ruler\n",
      "ask\n",
      "guard\n",
      "releas\n",
      "condit\n",
      "told\n",
      "burglar\n",
      "would\n",
      "releas\n",
      "appoint\n",
      "spi\n",
      "could\n",
      "break\n",
      "advisor\n",
      "tenali\n",
      "raman\n",
      "hous\n",
      "steal\n",
      "valuabl\n",
      "thiev\n",
      "agre\n",
      "challeng\n",
      "night\n",
      "two\n",
      "thiev\n",
      "went\n",
      "tenali\n",
      "raman\n",
      "hous\n",
      "hid\n",
      "behind\n",
      "bush\n",
      "dinner\n",
      "tenali\n",
      "raman\n",
      "came\n",
      "stroll\n",
      "heard\n",
      "rustl\n",
      "bush\n",
      "perceiv\n",
      "exist\n",
      "thiev\n",
      "garden\n"
     ]
    }
   ],
   "source": [
    "from nltk.stem import PorterStemmer\n",
    "stemmer = PorterStemmer()\n",
    "for word in word_text_filtered:\n",
    "    print(stemmer.stem(word))"
   ]
  },
  {
   "cell_type": "markdown",
   "id": "3f2c1799",
   "metadata": {},
   "source": [
    "#Lemmatization"
   ]
  },
  {
   "cell_type": "code",
   "execution_count": 26,
   "id": "9282784f",
   "metadata": {},
   "outputs": [
    {
     "name": "stderr",
     "output_type": "stream",
     "text": [
      "[nltk_data] Downloading package wordnet to /Users/swanil/nltk_data...\n"
     ]
    },
    {
     "data": {
      "text/plain": [
       "True"
      ]
     },
     "execution_count": 26,
     "metadata": {},
     "output_type": "execute_result"
    }
   ],
   "source": [
    "nltk.download('wordnet')"
   ]
  },
  {
   "cell_type": "code",
   "execution_count": 39,
   "id": "ca11f3f5",
   "metadata": {},
   "outputs": [
    {
     "name": "stdout",
     "output_type": "stream",
     "text": [
      "king\n",
      "krishnadevaraya\n",
      "gone\n",
      "survey\n",
      "jail\n",
      "two\n",
      "burglar\n",
      "prisoner\n",
      "asked\n",
      "mercy\n",
      "told\n",
      "expert\n",
      "burglary\n",
      "could\n",
      "help\n",
      "king\n",
      "catching\n",
      "thief\n",
      "king\n",
      "kind\n",
      "ruler\n",
      "asked\n",
      "guard\n",
      "release\n",
      "condition\n",
      "told\n",
      "burglar\n",
      "would\n",
      "release\n",
      "appoint\n",
      "spy\n",
      "could\n",
      "break\n",
      "advisor\n",
      "tenali\n",
      "raman\n",
      "house\n",
      "steal\n",
      "valuable\n",
      "thief\n",
      "agreed\n",
      "challenge\n",
      "night\n",
      "two\n",
      "thief\n",
      "went\n",
      "tenali\n",
      "raman\n",
      "house\n",
      "hid\n",
      "behind\n",
      "bush\n",
      "dinner\n",
      "tenali\n",
      "raman\n",
      "came\n",
      "stroll\n",
      "heard\n",
      "rustling\n",
      "bush\n",
      "perceived\n",
      "existence\n",
      "thief\n",
      "garden\n"
     ]
    }
   ],
   "source": [
    "from nltk.stem import WordNetLemmatizer\n",
    "lemmatized_word_list = []\n",
    "lemmatizer = WordNetLemmatizer()\n",
    "for word in word_text_filtered:\n",
    "    lemmatized_word_list.append(lemmatizer.lemmatize(word))\n",
    "    print(lemmatizer.lemmatize(word))"
   ]
  },
  {
   "cell_type": "code",
   "execution_count": 40,
   "id": "8edd4075",
   "metadata": {},
   "outputs": [
    {
     "name": "stdout",
     "output_type": "stream",
     "text": [
      "Stemming output || Lemmatization output\n",
      "--------------------------------------\n",
      "king || king\n",
      "krishnadevaraya || krishnadevaraya\n",
      "gone || gone\n",
      "survey || survey\n",
      "jail || jail\n",
      "two || two\n",
      "burglar || burglar\n",
      "prison || prisoner\n",
      "ask || asked\n",
      "merci || mercy\n",
      "told || told\n",
      "expert || expert\n",
      "burglari || burglary\n",
      "could || could\n",
      "help || help\n",
      "king || king\n",
      "catch || catching\n",
      "thiev || thief\n",
      "king || king\n",
      "kind || kind\n",
      "ruler || ruler\n",
      "ask || asked\n",
      "guard || guard\n",
      "releas || release\n",
      "condit || condition\n",
      "told || told\n",
      "burglar || burglar\n",
      "would || would\n",
      "releas || release\n",
      "appoint || appoint\n",
      "spi || spy\n",
      "could || could\n",
      "break || break\n",
      "advisor || advisor\n",
      "tenali || tenali\n",
      "raman || raman\n",
      "hous || house\n",
      "steal || steal\n",
      "valuabl || valuable\n",
      "thiev || thief\n",
      "agre || agreed\n",
      "challeng || challenge\n",
      "night || night\n",
      "two || two\n",
      "thiev || thief\n",
      "went || went\n",
      "tenali || tenali\n",
      "raman || raman\n",
      "hous || house\n",
      "hid || hid\n",
      "behind || behind\n",
      "bush || bush\n",
      "dinner || dinner\n",
      "tenali || tenali\n",
      "raman || raman\n",
      "came || came\n",
      "stroll || stroll\n",
      "heard || heard\n",
      "rustl || rustling\n",
      "bush || bush\n",
      "perceiv || perceived\n",
      "exist || existence\n",
      "thiev || thief\n",
      "garden || garden\n"
     ]
    }
   ],
   "source": [
    "# Comparison between the stemming and lemmatization output\n",
    "print(\"Stemming output || Lemmatization output\")\n",
    "print(\"--------------------------------------\")\n",
    "for word in word_text_filtered:\n",
    "    print(stemmer.stem(word), '||', lemmatizer.lemmatize(word))"
   ]
  },
  {
   "cell_type": "code",
   "execution_count": 31,
   "id": "d1bc60c6",
   "metadata": {},
   "outputs": [
    {
     "name": "stderr",
     "output_type": "stream",
     "text": [
      "[nltk_data] Downloading package averaged_perceptron_tagger to\n",
      "[nltk_data]     /Users/swanil/nltk_data...\n",
      "[nltk_data]   Unzipping taggers/averaged_perceptron_tagger.zip.\n"
     ]
    },
    {
     "data": {
      "text/plain": [
       "True"
      ]
     },
     "execution_count": 31,
     "metadata": {},
     "output_type": "execute_result"
    }
   ],
   "source": [
    "nltk.download('averaged_perceptron_tagger')"
   ]
  },
  {
   "cell_type": "code",
   "execution_count": 41,
   "id": "4e2e113f",
   "metadata": {},
   "outputs": [
    {
     "data": {
      "text/plain": [
       "[('king', 'VBG'),\n",
       " ('krishnadevaraya', 'NN'),\n",
       " ('gone', 'VBN'),\n",
       " ('survey', 'NN'),\n",
       " ('jail', 'NN'),\n",
       " ('two', 'CD'),\n",
       " ('burglar', 'JJ'),\n",
       " ('prisoner', 'NN'),\n",
       " ('asked', 'VBD'),\n",
       " ('mercy', 'NNS'),\n",
       " ('told', 'VBD'),\n",
       " ('expert', 'JJ'),\n",
       " ('burglary', 'NN'),\n",
       " ('could', 'MD'),\n",
       " ('help', 'VB'),\n",
       " ('king', 'VBG'),\n",
       " ('catching', 'VBG'),\n",
       " ('thief', 'JJ'),\n",
       " ('king', 'NN'),\n",
       " ('kind', 'NN'),\n",
       " ('ruler', 'NN'),\n",
       " ('asked', 'VBD'),\n",
       " ('guard', 'JJ'),\n",
       " ('release', 'NN'),\n",
       " ('condition', 'NN'),\n",
       " ('told', 'VBD'),\n",
       " ('burglar', 'NN'),\n",
       " ('would', 'MD'),\n",
       " ('release', 'VB'),\n",
       " ('appoint', 'NN'),\n",
       " ('spy', 'NN'),\n",
       " ('could', 'MD'),\n",
       " ('break', 'VB'),\n",
       " ('advisor', 'JJ'),\n",
       " ('tenali', 'JJ'),\n",
       " ('raman', 'NN'),\n",
       " ('house', 'NN'),\n",
       " ('steal', 'NN'),\n",
       " ('valuable', 'JJ'),\n",
       " ('thief', 'NN'),\n",
       " ('agreed', 'VBD'),\n",
       " ('challenge', 'JJ'),\n",
       " ('night', 'NN'),\n",
       " ('two', 'CD'),\n",
       " ('thief', 'NN'),\n",
       " ('went', 'VBD'),\n",
       " ('tenali', 'JJ'),\n",
       " ('raman', 'NN'),\n",
       " ('house', 'NN'),\n",
       " ('hid', 'NN'),\n",
       " ('behind', 'IN'),\n",
       " ('bush', 'NN'),\n",
       " ('dinner', 'NN'),\n",
       " ('tenali', 'JJ'),\n",
       " ('raman', 'NN'),\n",
       " ('came', 'VBD'),\n",
       " ('stroll', 'RB'),\n",
       " ('heard', 'VBN'),\n",
       " ('rustling', 'VBG'),\n",
       " ('bush', 'NN'),\n",
       " ('perceived', 'VBN'),\n",
       " ('existence', 'NN'),\n",
       " ('thief', 'NN'),\n",
       " ('garden', 'NN')]"
      ]
     },
     "execution_count": 41,
     "metadata": {},
     "output_type": "execute_result"
    }
   ],
   "source": [
    "#performed POS Tagging on the lemmatized word list\n",
    "tagged_text = nltk.pos_tag(lemmatized_word_list)\n",
    "tagged_text"
   ]
  },
  {
   "cell_type": "markdown",
   "id": "b9a2de48",
   "metadata": {},
   "source": [
    "# Named Entity Recognition"
   ]
  },
  {
   "cell_type": "markdown",
   "id": "ec455bc7",
   "metadata": {},
   "source": [
    "# End of the course"
   ]
  },
  {
   "cell_type": "code",
   "execution_count": null,
   "id": "d94cd37d",
   "metadata": {},
   "outputs": [],
   "source": []
  }
 ],
 "metadata": {
  "kernelspec": {
   "display_name": "Python 3 (ipykernel)",
   "language": "python",
   "name": "python3"
  },
  "language_info": {
   "codemirror_mode": {
    "name": "ipython",
    "version": 3
   },
   "file_extension": ".py",
   "mimetype": "text/x-python",
   "name": "python",
   "nbconvert_exporter": "python",
   "pygments_lexer": "ipython3",
   "version": "3.11.5"
  }
 },
 "nbformat": 4,
 "nbformat_minor": 5
}
