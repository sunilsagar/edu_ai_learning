{
 "cells": [
  {
   "cell_type": "markdown",
   "id": "4539f051",
   "metadata": {},
   "source": [
    "Added new code cell create above using esc + a , by placing the cursor\n"
   ]
  },
  {
   "cell_type": "code",
   "execution_count": 5,
   "id": "613e891e",
   "metadata": {},
   "outputs": [
    {
     "name": "stdout",
     "output_type": "stream",
     "text": [
      "3\n"
     ]
    }
   ],
   "source": [
    "# Code Cell\n",
    "x = 3\n",
    "print(x)"
   ]
  },
  {
   "cell_type": "markdown",
   "id": "1a1e589e",
   "metadata": {},
   "source": [
    "You can write notes here"
   ]
  },
  {
   "cell_type": "markdown",
   "id": "06d12d3b",
   "metadata": {},
   "source": [
    "Added new code cell create below using esc + b, by placing the cursor"
   ]
  },
  {
   "cell_type": "markdown",
   "id": "ff277e76",
   "metadata": {},
   "source": [
    "- esc + dd to delete the cell"
   ]
  },
  {
   "cell_type": "markdown",
   "id": "57088bae",
   "metadata": {},
   "source": [
    "- *python* --> Italics, \n",
    "- **python** --> bold,\n",
    "- ***python*** --> bold + italics"
   ]
  },
  {
   "cell_type": "code",
   "execution_count": null,
   "id": "58f94e6c",
   "metadata": {},
   "outputs": [],
   "source": []
  }
 ],
 "metadata": {
  "kernelspec": {
   "display_name": "Python 3 (ipykernel)",
   "language": "python",
   "name": "python3"
  },
  "language_info": {
   "codemirror_mode": {
    "name": "ipython",
    "version": 3
   },
   "file_extension": ".py",
   "mimetype": "text/x-python",
   "name": "python",
   "nbconvert_exporter": "python",
   "pygments_lexer": "ipython3",
   "version": "3.11.5"
  }
 },
 "nbformat": 4,
 "nbformat_minor": 5
}
