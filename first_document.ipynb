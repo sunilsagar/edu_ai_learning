{
 "cells": [
  {
   "cell_type": "markdown",
   "id": "e7f10e32",
   "metadata": {},
   "source": [
    "Added new code cell create above using esc + a , by placing the cursor\n"
   ]
  },
  {
   "cell_type": "code",
   "execution_count": 5,
   "id": "5d592c57",
   "metadata": {},
   "outputs": [
    {
     "name": "stdout",
     "output_type": "stream",
     "text": [
      "3\n"
     ]
    }
   ],
   "source": [
    "# Code Cell\n",
    "x = 3\n",
    "print(x)"
   ]
  },
  {
   "cell_type": "markdown",
   "id": "997dd4da",
   "metadata": {},
   "source": [
    "You can write notes here"
   ]
  },
  {
   "cell_type": "markdown",
   "id": "827b32d9",
   "metadata": {},
   "source": [
    "Added new code cell create below using esc + b, by placing the cursor"
   ]
  },
  {
   "cell_type": "markdown",
   "id": "96bbcfb6",
   "metadata": {},
   "source": [
    "- esc + dd to delete the cell"
   ]
  },
  {
   "cell_type": "markdown",
   "id": "b6b8bf53",
   "metadata": {},
   "source": [
    "- *python* --> Italics, \n",
    "- **python** --> bold,\n",
    "- ***python*** --> bold + italics"
   ]
  },
  {
   "cell_type": "code",
   "execution_count": null,
   "id": "d6bac19b",
   "metadata": {},
   "outputs": [],
   "source": []
  }
 ],
 "metadata": {
  "kernelspec": {
   "display_name": "Python 3 (ipykernel)",
   "language": "python",
   "name": "python3"
  },
  "language_info": {
   "codemirror_mode": {
    "name": "ipython",
    "version": 3
   },
   "file_extension": ".py",
   "mimetype": "text/x-python",
   "name": "python",
   "nbconvert_exporter": "python",
   "pygments_lexer": "ipython3",
   "version": "3.11.5"
  }
 },
 "nbformat": 4,
 "nbformat_minor": 5
}
