{
 "cells": [
  {
   "cell_type": "code",
   "execution_count": null,
   "metadata": {},
   "outputs": [],
   "source": [
    "#command to install nltk library\n",
    "\n",
    "!pip install nltk "
   ]
  },
  {
   "cell_type": "code",
   "execution_count": 1,
   "metadata": {},
   "outputs": [],
   "source": [
    "import nltk"
   ]
  },
  {
   "cell_type": "code",
   "execution_count": 18,
   "metadata": {},
   "outputs": [],
   "source": [
    "text = \"Once when King Krishnadevaraya had gone to survey the jail, two burglars who were prisoners there, asked for his mercy. They told him that they were experts at burglary and could help the king in catching other thieves. The king being a kind ruler asked his guards to release them but with a condition. He told the burglars that he would release them and appoint them as his spies only if they could break into his advisor Tenali Raman’s house and steal valuables from there. The thieves agreed for the challenge. That same night the two thieves went to Tenali Raman’s house and hid behind some bushes. After dinner, when Tenali Raman came out for a stroll, he heard some rustling in the bushes. He at once perceived the existence of thieves in his garden.\""
   ]
  },
  {
   "cell_type": "code",
   "execution_count": 19,
   "metadata": {},
   "outputs": [
    {
     "name": "stdout",
     "output_type": "stream",
     "text": [
      "Once when King Krishnadevaraya had gone to survey the jail, two burglars who were prisoners there, asked for his mercy. They told him that they were experts at burglary and could help the king in catching other thieves. The king being a kind ruler asked his guards to release them but with a condition. He told the burglars that he would release them and appoint them as his spies only if they could break into his advisor Tenali Raman’s house and steal valuables from there. The thieves agreed for the challenge. That same night the two thieves went to Tenali Raman’s house and hid behind some bushes. After dinner, when Tenali Raman came out for a stroll, he heard some rustling in the bushes. He at once perceived the existence of thieves in his garden.\n"
     ]
    }
   ],
   "source": [
    "print(text)"
   ]
  },
  {
   "cell_type": "markdown",
   "metadata": {},
   "source": [
    "# Tokenize our input text"
   ]
  },
  {
   "cell_type": "code",
   "execution_count": null,
   "metadata": {},
   "outputs": [],
   "source": [
    "# if you face error while invoking the sent_tokenize method, \n",
    "# use the below download command\n",
    "\n",
    "nltk.download('punkt')"
   ]
  },
  {
   "cell_type": "code",
   "execution_count": 4,
   "metadata": {},
   "outputs": [],
   "source": [
    "from nltk import sent_tokenize"
   ]
  },
  {
   "cell_type": "code",
   "execution_count": 20,
   "metadata": {},
   "outputs": [
    {
     "name": "stdout",
     "output_type": "stream",
     "text": [
      "['Once when King Krishnadevaraya had gone to survey the jail, two burglars who were prisoners there, asked for his mercy.', 'They told him that they were experts at burglary and could help the king in catching other thieves.', 'The king being a kind ruler asked his guards to release them but with a condition.', 'He told the burglars that he would release them and appoint them as his spies only if they could break into his advisor Tenali Raman’s house and steal valuables from there.', 'The thieves agreed for the challenge.', 'That same night the two thieves went to Tenali Raman’s house and hid behind some bushes.', 'After dinner, when Tenali Raman came out for a stroll, he heard some rustling in the bushes.', 'He at once perceived the existence of thieves in his garden.']\n"
     ]
    }
   ],
   "source": [
    "sent_text = sent_tokenize(text)\n",
    "\n",
    "print(sent_text)"
   ]
  },
  {
   "cell_type": "code",
   "execution_count": 8,
   "metadata": {},
   "outputs": [
    {
     "name": "stdout",
     "output_type": "stream",
     "text": [
      "<class 'list'>\n"
     ]
    }
   ],
   "source": [
    "print(type(sent_text))"
   ]
  },
  {
   "cell_type": "code",
   "execution_count": 7,
   "metadata": {},
   "outputs": [
    {
     "name": "stdout",
     "output_type": "stream",
     "text": [
      "Once when King Krishnadevaraya had gone to survey the jail, two burglars who were prisoners there, asked for his mercy.\n",
      "----------------------------------------------------------------\n",
      "They told him that they were experts at burglary and could help the king in catching other thieves.\n",
      "----------------------------------------------------------------\n",
      "The king being a kind ruler asked his guards to release them but with a condition.\n",
      "----------------------------------------------------------------\n",
      "He told the burglars that he would release them and appoint them as his spies only if they could break into his advisor Tenali Raman’s house and steal valuables from there.\n",
      "----------------------------------------------------------------\n",
      "The thieves agreed for the challenge.\n",
      "----------------------------------------------------------------\n",
      "That same night the two thieves went to Tenali Raman’s house and hid behind some bushes.\n",
      "----------------------------------------------------------------\n",
      "After dinner, when Tenali Raman came out for a stroll, he heard some rustling in the bushes.\n",
      "----------------------------------------------------------------\n",
      "He at once perceived the existence of thieves in his garden.\n",
      "----------------------------------------------------------------\n"
     ]
    }
   ],
   "source": [
    "for i in sent_text:\n",
    "    print(i)\n",
    "    print(\"----------------------------------------------------------------\")"
   ]
  },
  {
   "cell_type": "code",
   "execution_count": 9,
   "metadata": {},
   "outputs": [],
   "source": [
    "from nltk import word_tokenize\n",
    "\n",
    "word_tokens = word_tokenize(sent_text[0])"
   ]
  },
  {
   "cell_type": "code",
   "execution_count": 10,
   "metadata": {},
   "outputs": [
    {
     "name": "stdout",
     "output_type": "stream",
     "text": [
      "['Once', 'when', 'King', 'Krishnadevaraya', 'had', 'gone', 'to', 'survey', 'the', 'jail', ',', 'two', 'burglars', 'who', 'were', 'prisoners', 'there', ',', 'asked', 'for', 'his', 'mercy', '.']\n"
     ]
    }
   ],
   "source": [
    "print(word_tokens)"
   ]
  },
  {
   "cell_type": "markdown",
   "metadata": {},
   "source": [
    "**From the above word tokenizer output, we could infer that if word tokenization is done without preprocessing the input text to remove punctuations etc., the punctuations are also identified as word tokens by nltk.**"
   ]
  },
  {
   "cell_type": "markdown",
   "metadata": {},
   "source": [
    "# Preprocess the sentence tokens"
   ]
  },
  {
   "cell_type": "code",
   "execution_count": 21,
   "metadata": {},
   "outputs": [],
   "source": [
    "import re\n",
    "#iterating through each sentence in the corpus, convert the sentence to lower case, and then \n",
    "#remove the punctuation from the text.\n",
    "\n",
    "for i in range(len(sent_text)):\n",
    "    sent_text[i] = sent_text[i].lower() # convert the sentence to lower case\n",
    "    sent_text[i] = re.sub(r'\\W', ' ', sent_text[i]) #the \\W regex identifies every non-word charater\n",
    "    # and hence, it removes punctuations and replaces them with a white space"
   ]
  },
  {
   "cell_type": "code",
   "execution_count": 22,
   "metadata": {},
   "outputs": [
    {
     "name": "stdout",
     "output_type": "stream",
     "text": [
      "once when king krishnadevaraya had gone to survey the jail  two burglars who were prisoners there  asked for his mercy \n",
      "----------------------------------------------------------------\n",
      "they told him that they were experts at burglary and could help the king in catching other thieves \n",
      "----------------------------------------------------------------\n",
      "the king being a kind ruler asked his guards to release them but with a condition \n",
      "----------------------------------------------------------------\n",
      "he told the burglars that he would release them and appoint them as his spies only if they could break into his advisor tenali raman s house and steal valuables from there \n",
      "----------------------------------------------------------------\n",
      "the thieves agreed for the challenge \n",
      "----------------------------------------------------------------\n",
      "that same night the two thieves went to tenali raman s house and hid behind some bushes \n",
      "----------------------------------------------------------------\n",
      "after dinner  when tenali raman came out for a stroll  he heard some rustling in the bushes \n",
      "----------------------------------------------------------------\n",
      "he at once perceived the existence of thieves in his garden \n",
      "----------------------------------------------------------------\n"
     ]
    }
   ],
   "source": [
    "for i in sent_text:\n",
    "    print(i)\n",
    "    print(\"----------------------------------------------------------------\")"
   ]
  },
  {
   "cell_type": "code",
   "execution_count": null,
   "metadata": {},
   "outputs": [],
   "source": []
  }
 ],
 "metadata": {
  "kernelspec": {
   "display_name": "Python 3",
   "language": "python",
   "name": "python3"
  },
  "language_info": {
   "codemirror_mode": {
    "name": "ipython",
    "version": 3
   },
   "file_extension": ".py",
   "mimetype": "text/x-python",
   "name": "python",
   "nbconvert_exporter": "python",
   "pygments_lexer": "ipython3",
   "version": "3.7.4"
  }
 },
 "nbformat": 4,
 "nbformat_minor": 2
}
