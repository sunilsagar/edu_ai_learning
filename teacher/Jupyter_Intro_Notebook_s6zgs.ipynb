{
 "cells": [
  {
   "cell_type": "markdown",
   "metadata": {},
   "source": [
    "**Python is a dynamically typed programming language.**"
   ]
  },
  {
   "cell_type": "code",
   "execution_count": 3,
   "metadata": {},
   "outputs": [
    {
     "name": "stdout",
     "output_type": "stream",
     "text": [
      "3\n"
     ]
    }
   ],
   "source": [
    "#Every cell in Jupyter notebook by default is a code cell \n",
    "x = 3\n",
    "print(x)"
   ]
  },
  {
   "cell_type": "markdown",
   "metadata": {},
   "source": [
    "In Java, which is a statically typed programming language, while creating a variable, you will always have to specify the data type of the variable.\n",
    "\n",
    "For eg:\n",
    "\n",
    "- int x = 3; \n",
    "- str name = \"Vaishali\";"
   ]
  },
  {
   "cell_type": "markdown",
   "metadata": {},
   "source": [
    "You can write notes here.\n",
    "\n",
    "# Useful Jupyter Shortcuts\n",
    "\n",
    "##  Useful Jupyter Shortcuts\n",
    "\n",
    "### Useful Jupyter Shortcuts\n",
    "\n",
    "- Esc+a --> Shortcut to add a code cell above the existing cell.\n",
    "\n",
    "- Esc+b --> Shortcut to add a code cell below the existing cell.\n",
    "\n",
    "- Shift+Enter --> Shortcut to run a cell in Jupyter.\n",
    "\n",
    "- Esc+m --> Shortcut to convert a code cell to a markdown cell\n",
    "\n",
    "- Esc+y --> Shortcut to convert a markdown cell to a code cell\n",
    "\n",
    "- Esc+dd --> Shortcut to delete a cell\n",
    "\n",
    "1 asterisk --> *python* --> would italicise the text\n",
    "\n",
    "2 asterisks --> **python** --> would bold face the text\n",
    "\n",
    "3 asterisks --> ***python*** ---> would both italicise and bold face the \n",
    "text\n",
    "\n",
    "**Note :** The markdown cells are called so because they support html markup tags for text formatting.\n",
    "\n",
    "For eg: to bold face a text , <b> i can use the html b tag </b>\n",
    "\n",
    "<ul>\n",
    "    <li>point 1</li>\n",
    "    <li>point 2</li>\n",
    "    <li>point 3</li>\n",
    "</ul>\n",
    "    \n"
   ]
  },
  {
   "cell_type": "markdown",
   "metadata": {},
   "source": [
    "# End of section"
   ]
  }
 ],
 "metadata": {
  "kernelspec": {
   "display_name": "Python 3",
   "language": "python",
   "name": "python3"
  },
  "language_info": {
   "codemirror_mode": {
    "name": "ipython",
    "version": 3
   },
   "file_extension": ".py",
   "mimetype": "text/x-python",
   "name": "python",
   "nbconvert_exporter": "python",
   "pygments_lexer": "ipython3",
   "version": "3.7.4"
  }
 },
 "nbformat": 4,
 "nbformat_minor": 2
}
