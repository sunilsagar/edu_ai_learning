{
 "cells": [
  {
   "cell_type": "code",
   "execution_count": 1,
   "id": "c55fae0e",
   "metadata": {},
   "outputs": [
    {
     "name": "stdout",
     "output_type": "stream",
     "text": [
      "Requirement already satisfied: nltk in /Users/swanil/anaconda3/lib/python3.11/site-packages (3.8.1)\r\n",
      "Requirement already satisfied: click in /Users/swanil/anaconda3/lib/python3.11/site-packages (from nltk) (8.0.4)\r\n",
      "Requirement already satisfied: joblib in /Users/swanil/anaconda3/lib/python3.11/site-packages (from nltk) (1.2.0)\r\n",
      "Requirement already satisfied: regex>=2021.8.3 in /Users/swanil/anaconda3/lib/python3.11/site-packages (from nltk) (2022.7.9)\r\n",
      "Requirement already satisfied: tqdm in /Users/swanil/anaconda3/lib/python3.11/site-packages (from nltk) (4.65.0)\r\n"
     ]
    }
   ],
   "source": [
    "#command to install nltk library\n",
    "!pip install nltk"
   ]
  },
  {
   "cell_type": "code",
   "execution_count": 2,
   "id": "b7572319",
   "metadata": {},
   "outputs": [],
   "source": [
    "import nltk"
   ]
  },
  {
   "cell_type": "code",
   "execution_count": 3,
   "id": "891df096",
   "metadata": {},
   "outputs": [],
   "source": [
    "text = \"Once when King Krishnadevaraya had gone to survey the jail, two burglars who were prisoners there, asked for his mercy. They told him that they were experts at burglary and could help the king in catching other thieves. The king being a kind ruler asked his guards to release them but with a condition. He told the burglars that he would release them and appoint them as his spies only if they could break into his advisor Tenali Raman’s house and steal valuables from there. The thieves agreed for the challenge. That same night the two thieves went to Tenali Raman’s house and hid behind some bushes. After dinner, when Tenali Raman came out for a stroll, he heard some rustling in the bushes. He at once perceived the existence of thieves in his garden.\""
   ]
  },
  {
   "cell_type": "code",
   "execution_count": 4,
   "id": "4c2afe83",
   "metadata": {},
   "outputs": [
    {
     "name": "stdout",
     "output_type": "stream",
     "text": [
      "Once when King Krishnadevaraya had gone to survey the jail, two burglars who were prisoners there, asked for his mercy. They told him that they were experts at burglary and could help the king in catching other thieves. The king being a kind ruler asked his guards to release them but with a condition. He told the burglars that he would release them and appoint them as his spies only if they could break into his advisor Tenali Raman’s house and steal valuables from there. The thieves agreed for the challenge. That same night the two thieves went to Tenali Raman’s house and hid behind some bushes. After dinner, when Tenali Raman came out for a stroll, he heard some rustling in the bushes. He at once perceived the existence of thieves in his garden.\n"
     ]
    }
   ],
   "source": [
    "print(text)"
   ]
  },
  {
   "cell_type": "markdown",
   "id": "e11b2662",
   "metadata": {},
   "source": [
    "# Tokenize our input Text"
   ]
  },
  {
   "cell_type": "code",
   "execution_count": 7,
   "id": "29e5a1cc",
   "metadata": {},
   "outputs": [
    {
     "name": "stderr",
     "output_type": "stream",
     "text": [
      "[nltk_data] Downloading package punkt to /Users/swanil/nltk_data...\n",
      "[nltk_data]   Unzipping tokenizers/punkt.zip.\n"
     ]
    },
    {
     "data": {
      "text/plain": [
       "True"
      ]
     },
     "execution_count": 7,
     "metadata": {},
     "output_type": "execute_result"
    }
   ],
   "source": [
    "#if you see error while involing sent_tokenize method, use below command\n",
    "nltk.download('punkt')"
   ]
  },
  {
   "cell_type": "code",
   "execution_count": 8,
   "id": "ea54fe27",
   "metadata": {},
   "outputs": [],
   "source": [
    "from nltk import sent_tokenize"
   ]
  },
  {
   "cell_type": "code",
   "execution_count": 9,
   "id": "a432e526",
   "metadata": {},
   "outputs": [
    {
     "name": "stdout",
     "output_type": "stream",
     "text": [
      "['Once when King Krishnadevaraya had gone to survey the jail, two burglars who were prisoners there, asked for his mercy.', 'They told him that they were experts at burglary and could help the king in catching other thieves.', 'The king being a kind ruler asked his guards to release them but with a condition.', 'He told the burglars that he would release them and appoint them as his spies only if they could break into his advisor Tenali Raman’s house and steal valuables from there.', 'The thieves agreed for the challenge.', 'That same night the two thieves went to Tenali Raman’s house and hid behind some bushes.', 'After dinner, when Tenali Raman came out for a stroll, he heard some rustling in the bushes.', 'He at once perceived the existence of thieves in his garden.']\n"
     ]
    }
   ],
   "source": [
    "sent_text = sent_tokenize(text)\n",
    "print(sent_text)"
   ]
  },
  {
   "cell_type": "code",
   "execution_count": 10,
   "id": "f04b8227",
   "metadata": {},
   "outputs": [
    {
     "name": "stdout",
     "output_type": "stream",
     "text": [
      "<class 'list'>\n"
     ]
    }
   ],
   "source": [
    "print(type(sent_text))"
   ]
  },
  {
   "cell_type": "code",
   "execution_count": 11,
   "id": "3b65dea9",
   "metadata": {},
   "outputs": [
    {
     "name": "stdout",
     "output_type": "stream",
     "text": [
      "Once when King Krishnadevaraya had gone to survey the jail, two burglars who were prisoners there, asked for his mercy.\n",
      "------------------------------------------------------\n",
      "They told him that they were experts at burglary and could help the king in catching other thieves.\n",
      "------------------------------------------------------\n",
      "The king being a kind ruler asked his guards to release them but with a condition.\n",
      "------------------------------------------------------\n",
      "He told the burglars that he would release them and appoint them as his spies only if they could break into his advisor Tenali Raman’s house and steal valuables from there.\n",
      "------------------------------------------------------\n",
      "The thieves agreed for the challenge.\n",
      "------------------------------------------------------\n",
      "That same night the two thieves went to Tenali Raman’s house and hid behind some bushes.\n",
      "------------------------------------------------------\n",
      "After dinner, when Tenali Raman came out for a stroll, he heard some rustling in the bushes.\n",
      "------------------------------------------------------\n",
      "He at once perceived the existence of thieves in his garden.\n",
      "------------------------------------------------------\n"
     ]
    }
   ],
   "source": [
    "for i in sent_text:\n",
    "    print(i)\n",
    "    print(\"------------------------------------------------------\")"
   ]
  },
  {
   "cell_type": "code",
   "execution_count": 12,
   "id": "b7402636",
   "metadata": {},
   "outputs": [],
   "source": [
    "from nltk import word_tokenize\n",
    "word_tokens = word_tokenize(sent_text[0])"
   ]
  },
  {
   "cell_type": "code",
   "execution_count": 13,
   "id": "0c012f80",
   "metadata": {},
   "outputs": [
    {
     "name": "stdout",
     "output_type": "stream",
     "text": [
      "['Once', 'when', 'King', 'Krishnadevaraya', 'had', 'gone', 'to', 'survey', 'the', 'jail', ',', 'two', 'burglars', 'who', 'were', 'prisoners', 'there', ',', 'asked', 'for', 'his', 'mercy', '.']\n"
     ]
    }
   ],
   "source": [
    "print(word_tokens)"
   ]
  },
  {
   "cell_type": "markdown",
   "id": "979b368b",
   "metadata": {},
   "source": [
    "Punctation do not value here, so process again"
   ]
  },
  {
   "cell_type": "markdown",
   "id": "37cf6346",
   "metadata": {},
   "source": [
    "# Preprocess the sentence tokens"
   ]
  },
  {
   "cell_type": "code",
   "execution_count": 14,
   "id": "f400786c",
   "metadata": {},
   "outputs": [],
   "source": [
    "import re\n",
    "for i in range(len(sent_text)):\n",
    "    sent_text[i] = sent_text[i].lower() # convert the sentence to lowecase\n",
    "    sent_text[i] = re.sub(r'\\W', ' ', sent_text[i])"
   ]
  },
  {
   "cell_type": "code",
   "execution_count": 15,
   "id": "79cf30c3",
   "metadata": {},
   "outputs": [
    {
     "name": "stdout",
     "output_type": "stream",
     "text": [
      "once when king krishnadevaraya had gone to survey the jail  two burglars who were prisoners there  asked for his mercy \n",
      "------------------------------------------------------\n",
      "they told him that they were experts at burglary and could help the king in catching other thieves \n",
      "------------------------------------------------------\n",
      "the king being a kind ruler asked his guards to release them but with a condition \n",
      "------------------------------------------------------\n",
      "he told the burglars that he would release them and appoint them as his spies only if they could break into his advisor tenali raman s house and steal valuables from there \n",
      "------------------------------------------------------\n",
      "the thieves agreed for the challenge \n",
      "------------------------------------------------------\n",
      "that same night the two thieves went to tenali raman s house and hid behind some bushes \n",
      "------------------------------------------------------\n",
      "after dinner  when tenali raman came out for a stroll  he heard some rustling in the bushes \n",
      "------------------------------------------------------\n",
      "he at once perceived the existence of thieves in his garden \n",
      "------------------------------------------------------\n"
     ]
    }
   ],
   "source": [
    "for i in sent_text:\n",
    "    print(i)\n",
    "    print(\"------------------------------------------------------\")"
   ]
  },
  {
   "cell_type": "code",
   "execution_count": null,
   "id": "1d1b6ef2",
   "metadata": {},
   "outputs": [],
   "source": [
    "from nltk import word_tokenize\n",
    "word_test"
   ]
  }
 ],
 "metadata": {
  "kernelspec": {
   "display_name": "Python 3 (ipykernel)",
   "language": "python",
   "name": "python3"
  },
  "language_info": {
   "codemirror_mode": {
    "name": "ipython",
    "version": 3
   },
   "file_extension": ".py",
   "mimetype": "text/x-python",
   "name": "python",
   "nbconvert_exporter": "python",
   "pygments_lexer": "ipython3",
   "version": "3.11.5"
  }
 },
 "nbformat": 4,
 "nbformat_minor": 5
}
